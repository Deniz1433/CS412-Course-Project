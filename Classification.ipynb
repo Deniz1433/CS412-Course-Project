{
 "cells": [
  {
   "cell_type": "code",
   "execution_count": 1,
   "id": "b1d82ad2-7554-4be0-97ba-b9fe88d731f5",
   "metadata": {},
   "outputs": [
    {
     "name": "stdout",
     "output_type": "stream",
     "text": [
      "          username          category\n",
      "0    taskirancemal  Mom and Children\n",
      "1    tam_kararinda              Food\n",
      "2         spart4nn              Food\n",
      "3  sosyalyiyiciler              Food\n",
      "4  sonaydizdarahad  Mom and Children\n"
     ]
    }
   ],
   "source": [
    "import pandas as pd\n",
    "\n",
    "# Load annotated training data\n",
    "annotated_df = pd.read_csv('training_data/train-classification_annotated.csv')\n",
    "print(annotated_df.head())"
   ]
  },
  {
   "cell_type": "code",
   "execution_count": 2,
   "id": "eb767bd5-b12a-40f5-89b5-48448904f02f",
   "metadata": {},
   "outputs": [
    {
     "name": "stdout",
     "output_type": "stream",
     "text": [
      "5415\n"
     ]
    }
   ],
   "source": [
    "import json\n",
    "\n",
    "# Function to load JSONL data\n",
    "def load_jsonl(file_path):\n",
    "    data = []\n",
    "    with open(file_path, 'r', encoding='utf-8') as f:\n",
    "        for line in f:\n",
    "            data.append(json.loads(line))\n",
    "    return data\n",
    "\n",
    "training_data = load_jsonl('training_data/training-dataset-filtered-classification.jsonl')\n",
    "print(len(training_data))"
   ]
  },
  {
   "cell_type": "code",
   "execution_count": 3,
   "id": "855771ce-b326-4497-81e6-0f89b953f943",
   "metadata": {},
   "outputs": [],
   "source": [
    "# Create a dictionary for quick username lookup\n",
    "username_to_profile = {}\n",
    "for entry in training_data:\n",
    "    username = entry['profile']['username']\n",
    "    biography = entry['profile']['biography']\n",
    "    posts = entry['posts']\n",
    "    # Concatenate all post captions, converting None to an empty string\n",
    "    captions = ' '.join([str(post.get('caption', '')) for post in posts if post.get('caption') is not None])\n",
    "    username_to_profile[username] = {\n",
    "        'biography': biography,\n",
    "        'captions': captions\n",
    "    }"
   ]
  },
  {
   "cell_type": "code",
   "execution_count": 4,
   "id": "8cdfa540-76d7-496d-9627-321078558602",
   "metadata": {},
   "outputs": [
    {
     "name": "stdout",
     "output_type": "stream",
     "text": [
      "          username          category  \\\n",
      "0    taskirancemal  Mom and Children   \n",
      "1    tam_kararinda              Food   \n",
      "2         spart4nn              Food   \n",
      "3  sosyalyiyiciler              Food   \n",
      "4  sonaydizdarahad  Mom and Children   \n",
      "\n",
      "                                           biography  \\\n",
      "0                                     📍Antalya / Kaş   \n",
      "1     Milliyet Pazar\\nKalori Alacaksan Buna Değecek📚   \n",
      "2  Küçük ev\\nKamp ve doğa hayatı🏕\\nMutfağımız doğ...   \n",
      "3  Founder @bitte.izmir \\nIZMIR yemek/seyahat foo...   \n",
      "4  DİZDAR 🧿 Ahad 🧿 Dağhan \\n@d.a.d.kids \\n@dilanp...   \n",
      "\n",
      "                                            captions  \n",
      "0  Ah Merve ah.. #tineco #temizlik Çocukken baktı...  \n",
      "1  Faydasız Deneyler Serisi’nde bu sefer blender’...  \n",
      "2  Kütük ocağında et fajita...\\n#nature#dinner#la...  \n",
      "3  Keşif gibi keşifle geldim!cosi.gastro Çakallı ...  \n",
      "4  Her şeye EYVALLAH 🤐 🤍 10.yıl ❤️ Şanlıurfa da E...  \n"
     ]
    }
   ],
   "source": [
    "# Add biography and captions to the annotated DataFrame\n",
    "annotated_df['biography'] = annotated_df['username'].apply(lambda x: username_to_profile.get(x, {}).get('biography', ''))\n",
    "annotated_df['captions'] = annotated_df['username'].apply(lambda x: username_to_profile.get(x, {}).get('captions', ''))\n",
    "\n",
    "print(annotated_df.head())"
   ]
  },
  {
   "cell_type": "code",
   "execution_count": 5,
   "id": "be82e22d-1878-4852-bb1e-3c6c5d1cc09f",
   "metadata": {},
   "outputs": [
    {
     "name": "stdout",
     "output_type": "stream",
     "text": [
      "['livapastanesi', 'barisgross', 'tusasshop', 'etolyadigital', 'tugrulonur', 'tulugozlu', 'gokidy', 'cengizgumus_official', 'krossbisiklet', 'haribochamallows', 'ozatashipyard', 'yenisafak', 'iamsiddeshjadhav', 'burcinterzioglu', 'steakhousegunaydin', 'baselifeclub', 'benismailyildirimm', 'imuneksfarma', 'dogakoyucatalca', 'sena.sener', 'kandilliborsarestaurant', 'selamiersoyy', 'deutz_fahr_turkey', 'cevaheer', 'tezatsanat', 'filtresizcom', 'palomamarina_suites', 'westchocolatemarina', 'sebnemcapa', 'rozetsepeti', 'ececesmioglu', 'ustapidecitr', 'gocaagonyali', 'maestro.sanat.kursu', 'oztayteksofficial', 'imtolstoyevski', 'turkervip', 'rustik.rus.restorani', 'guzellik_hemsiresi', 'mehmetcikvakfi', 'bruderturkiye', 'brandingturkiye', 'dogushyilmaz', 'crmbelediyesi', 'gcaturkiye', 'bskcemildeveci', 'lokmanhekimhastaneleri', 'trumpavm', 'resimlimagnet_com', 'ilaydaakdogan', 'karincaproduksiyon', 'ilkergodencemobilya', 'semihasahin', 'ogretmeninkaleminden_', 'narkoyjournal', 'kuzucu_mucevherat', 'mmkmetalurji', 'okanyanmazcom', 'silopibld', 'cubocomtr', 'ahlatbld', 'tarimoz', 'komunpub', 'novax_gozluk_camlari', 'tarkan', 'sefkatpeker', 'kore_kultur_merkezi', 'gaiaandco', 'bvbajans', 'esila_kids', 'halisunasyoncoffee', 'ecovero.turkey', 'denizliotizmdernegi', 'buckheadturkey', 'karaman.bel.tr', 'imoykukarayel', 'celsuskitabevi', 'sonerarica1', 'keyifbebesi', 'vadistanbul', 'pivoraizmir', 'aliyagciii', 'bebebiyat', 'erdqtr', 'mo_istanbul', 'mekpan_panel', 'rotarttasarim', 'tc_giresunvaliligi', 'yigitcaliskan_', 'craftdesignistanbul', 'jciistanbul', 'mustafakoleoglu', 'ankarabbld', 'staynewinn', 'hasvetmedikal', 'trendysidebeach', 'promosyonizmir', 'turkiyekickboksfederasyonu', 'tugcedural', 'nestleturkiye', 'bomotorsport', 'ahmetmaranki', 'hayalevent', 'ozelkonakhastanesi', 'istanbul_halidunyasi', 'adiyaman_park_avm', 'pillavidenizli', 'annebebekdergisii', 'enmutluoldugumyer', 'alfaglb', 'erciyes.anadolu', 'dytgozdembasarir', 'sirenebelekhotel', 'ahbap', 'uzmanturizm', 'cagdasonurozturk', 'globaldentaleskisehir', 'kilicyarenn', 'moisahne', 'thecitysuitestr', 'kayihanpala', 'bilkenttiyatro', 'kentmeydaniavm', 'cnridentex', 'kirencekaya_balikcisi', 'getir', 'etimesgutbld', 'yigitpoyrazz', 'gokcinarnecdet', 'abdullahozdemirbb', 'babilkulesi_', 'remedassistance', 'mikronajans', 'huaweimobiletr', 'gezmedenbilemezsin', 'coskunaltun36', 'lebleukusadasi', 'schweppes_tr', 'pilatesannesi', 'livingroomist', 'transeshairtransplant', 'duygubie', 'mylittleponytr', 'gupseo', 'erenoren', 'kirmiziocakbasi', 'duzcehalkmar', 'unicosigorta', 'gezginsincap', 'erkek_bileklik_modelleri', 'yapikredibomontiada', 'socratesbistro', 'mutfaktayusufvar', 'digitalagencynetwork', 'fiatkastamonugozde', 'brkhkmn', 'vaziyetcomtr', 'lisebjkcom', 'sinanguler', 'mamaspapas.tr', 'generalmobile', 'borusanlojistik', 'sana_turkiye', 'viptrend.com.tr', 'artonistanbul', 'sezergsm38', 'resoundturkiye', 'tiyatroyeniden_official', 'barcintancan', 'kadindayanismavakfi', 'serdarsandal35', 'denizcanaktasofficial', 'gulben123', 'gezmelerdeyim', 'gomecbelediyesi', 'serpilexclusive', 'gsb_hatay', 'talyakizyurdu', 'aycasenbaskan', 'mandolinyayinlari', 'sadberkhanimmuzesi', 'zamanebaba', 'izzettinyilmaztr', 'freshscarfs', 'pasta34shop', 'webajans', 'gci.tuerkei', 'esseklinik', 'samuthatr', 'ozelaydingoz', 'iloveanalogue', 'kadinlarfestivali', 'braunhouseholdturkey', 'este.foot', 'uzmananahtar', 'yorglass', 'selcuklukongremerkezi', 'zerrintekindor', 'nihatcan11', 'sarikizmadensuyu', 'ekremcoskundoner', 'ilhansen', 'hacettepe_university', 'besiktasbelediyesi', 'scaniatr', 'tosunpasaalacati', 'tuna.food', 'indirimlix', 'theurbangoat.ist', 'kesfetmek_guzeldir', 'beko_serdar', 'mgulluoglu', 'muyashop', 'serhanonat', 'alperenduymaz', 'tasarimgroup', 'ege_koy_mahsulleri', 'yamalioglumucevherat', 'babylissturkiye', 'perlavista_avm', 'dr.gokalpdizdar', 'kadinkoalisyonu', 'acemdenizyel', 'turkerkilic', 'gulsenbubikogluofficial', 'yazyuceil', 'kapadokyazeppelin', 'ikbalkaya', 'lastdoor_tr', 'dengemerkezi', 'edisdeposu', 'akyuzmobilyaurfa', 'solcugazete', 'avmorion', 'fizikseltiyatro', 'gurmerehber', 'gursubeltr', 'sahanepazar', 'swipeline', 'ahmethamdigork', 'expertyol', 'araskarafil', 'tepebasibeltr', 'kumpirbox', 'hedefbeytotel', 'seyitaliofficial', 'armonipark', 'erzincansuleymankaraman', 'cebirecep', 'omsvibro', 'alacatibeachresort', 'elkon_official', 'kaan.sekban', 'flotalmirror', 'thelevanttahinier', 'zodyakli', 'beiniztv', 'mesutscl', 'umraniyebeltr', 'muratacilimranli', 'imamoglu.belediyesi', 'jumbokunefetr', 'gulgrupgayrimenkul', 'soyturkrabia', 'pekcetintemizlik', 'psikezone', 'donerci_serkan_usta', 'mirdellav', 'iyigelir.biz', 'durumle', '3durak', 'roofgamesstudio', 'konseptkutucom', 'uras.benlioglu', 'yemekcom', 'ipekozagan', 'ozeltanyeri', 'hakkiakdenizz', 'mekoglobal', 'datcabelediyesi', 'tkdkordu', 'yelkenrest', 'suleymansarilar', '___daire___', 'iremhlvcioglu', 'uberkuloz', 'fdnsirketlergrubu', 'podyumsanatmahal', '3eeemedya', 'akinyucel', 'sky_uk', 'kesifmekan', 'whatupmell', 'nedimkaplann', 'ozdilekusakavm', 'trendmobilyacom', 'beka_beka_anaokulu', 'turkiyedagcilik', 'leylasapmazz', 'turkistanpazari', 'hyattregencyistanbulatakoy', 'gercekmutfak', 'tolgasaritas', 'gayretmakina', 'gzonemag', 'lineersoft', 'desimerkez', 'tavukdunyasikariyer', 'akgunwalker', 'didemeryarunlu', 'asaspen.veratec', 'ezgi_basaran', 'applegurgencler', 'turktraktorkariyer', 'nihatatli.tr', 'guncesanattiyatrosu', 'talha_karci', 'meltem.hastanesi', 'diyetisyengamzealtinay', 'canyucetas', 'kaanurgancioglu', 'gursueraykirtasiye', 'dinersclubtr', 'stonebarizmir', 'rocscoffee', 'ayhancanguven', 'ezomola', 'unuttumsanmacom', 'hotech_ecosystem', 'bingolbel', 'cengizsemercio', 'bskulgurgokhan_', 'veritameyve', 'bekiraltantr', 'vmilor', 'pylsmn', 'duzceguvencomtr', 'argonotlar.sanat', 'cilemakar', 'novotel_bosphorus', 'yuncualimagazalari', 'bahar_eli', 'turkiyesualtisporlari', 'operaistanbul', 'rengarenkkanal', 'guronimobilya', 'ktheventagency', 'lutfusavas', 'cookluhayat', 'birayetarapca', 'buyukdere35', 'milliyiyici', 'muhikucom', 'izmirekolhastanesi', 'fundafashion', 'dilart.design', 'eurovisn_turkey', 'ibrahim__varli', 'tarsusbelediyesi', 'pinarhepyanimda', 'sporsuncom', 'btginsaat', 'izmiretkinlikhaberleri', 'akifergurumtr', 'boztaspremium', '3d_maket', 'tekinozalit', 'elvanreklamtr', 'alikerimdiler', 'tufanlarkuyumculuk', 'sendeyapsana', 'arifibrahimoff', 'alpatayazilim', 'kasaphansteakhouse', 'seturdutyfree', 'ozkocengin', 'novikovbodrum', 'yedibilgeler', 'caddekultursanat', 'weareomgteam', 'bullentoz', 'huseyinkabisteke', 'takviyegiller', 'herseyyanimda', '_helinkandemir', 'ipekpamuk', 'gsb_erzincan', 'seyirdernegi', 'eformspormerkezi', 'hakansuer41', 'medicasimple', 'murat.besikci', 'zadevital', 'gokhanozoguz', 'fishorg', 'ahlparkavm', 'galipensarioglu', 'acarflowers', 'selcuklubel', 'onlembebekbezi', 'liqui_moly_turkey', 'magnumenerji', 'kulabelediyesi', 'aleynaclsknn', 'ikicay', 'lemonadeagency', 'unolezzetleri', 'pelinyarr', 'viastudio', 'hyattregencyizmir_istinyepark', 'mentos_tr', 'meliskaracam', 'dedemankonyahotel', '01burdaavm', 'minimokirtasiye', 'pendikbelediyesi', 'arkas_spor', 'normholding', 'ahmetipeksucuklariafyon', 'medyaevi_iletisim', 'mbbkulturas', 'byelergumus', 'ozanyigitt', 'miniaturkmuzesi', 'ozgeyagizz', 'nanopax_com', 'roketsan', 'kadikoyemek', 'ozaysendir', 'ferideozdincc', 'ecift', 'eklerciumit', 'estehair', 'izmirhim', 'demiirhaan', 'ketebe', 'pozitif.dusunceler', 'opdrerdemzengin', 'gufojewelry', 'hamzaefendi', 'imok_studio', 'ysdistanbul', 'beachandbeyondswimwear', 'richmondpamukkale', 'rizepazarbelediyesi', 'vineturkiyem', 'ikizlerbebefethiye', 'trtworld', 'ozgefiskin', 'engeenergy', 'biostoretr', 'edakok59', 'avmpomelon', 'sait.restaurant', 'evimin.yemekleri', 'ladymiena', 'dokusanatatolyesi', 'alvisajanss', 'birunitiyatro', 'ugursengulx', 'kemerlizimba', 'drenginocal', 'patara.well', 'barbarosfarm', 'ataguroffice', 'ankaranobeltipkitabevleri', 'arminesiirtpark', 'bancocomtr', 'akbarkodetiket', 'karsiyakabelediyesi', 'simaybarlass', 'erdogantok55', 'levonbagis', 'quartzclinique', 'porlandgastro', 'dyt.psk.bilgesakli', 'dericompany', 'keciorenbelediyesi06', 'nergiscorakci', 'ontangrup', 'katalportmarin', 'primemallantakya', 'umit_ozlale', 'lokmacafe', 'drhalilibrahimtekin', 'deppo_avantaj', 'meltem.kursunlu', 'akhisarpresshaber', 'grisahne', 'besaygold', 'bungalovoteller', 'mersinsensin', 'biancaboya', 'yegezokuyaz', 'cemseymen', 'prohealthgenetictests', 'erenkoy_danismanlik', 'ayvalikescbilisim', 'thecompanytr', 'iyigelecekelcileri', 'nevzatozkur0', 'denizlibbld', 'cibalikapibalikcisi', 'pak_metal', 'tavtechnologies', 'malatyapark', 'onurkuyumcu1919', 'poyrazotomotiv', 'ninovaparkavm', 'drderyacan', 'primepuritypep', 'galenikecza', 'milangaz', 'mediviasaglikgrubu', 'tulayerciyaskayaa', 'kurulusdizisi', 'nurgulyesilcayy', 'selinayalcn', 'calgontr', 'mplusturkiye', 'antmarealacati', 'duzicibld', 'assosdiamond', 'gulseli.com.tr', 'iremsak', 'zulaoyun', 'ozdilekboluavm', 'everfastenings', 'ozakgokturk', 'pelinkarahan', 'kerimsabanci', 'fatmasamsayilmaz', 'drbrkzks', 'ciftelerbelediyesi', 'serangocer', 'hisliseyler', 'richhousebistro', 'nurullahsavasresmi', 'yfatihcoban', 'boschturkiyekariyer', 'yachtmurat', 'cetinkayapano', 'yoldabiblog', 'limak.hotels', 'eminoguzcelebi', 'sailturkiyeracing', 'kronospan', 'defneilgaz.com.tr', 'seyfidingil', 'atalaraleyna', '253binyasin', 'tulinnalbayrak', 'reiskuyumculuk', 'dijiatolye', 'antolojiankara', 'girafestore', 'profdrmuratbas', 'kendinemuzisyen', 'didembalikofficial', 'zpor', 'aquayasamofficial', 'oguzhankapilar', 'westparkoutlet', 'odyomedbursa', 'pluscomiletisim', 'ulubeybelediyesi', 'galvinnisantasi', 'yoldalogistics', 'mesdokum', 'cizmecikedi', 'koleksiyonerberber', 'gurhanaltundasar', 'ankaragucufp', 'technical_sharing', 'idaorgonite', 'virahabercom', 'uykudunyasicom', 'beymenclub', 'theboviera', 'logoyazilimkariyer', 'tijenaktay', 'mastercardturkiye', 'itef_istanbul', 'buyukekerbijon', 'kosbsocial', 'bisalt', 'antmodern', 'trendyolhizlimarket', 'transparentproductions', 'acibadem.international', 'mervekutlu', 'dirim.metal', 'rahmi.gencer', 'hamzayilmazmucevherat', '1001sanat', 'gaziantepbeld', 'aslanegegrup', 'sabanozubelediyesi', 'flotalofficial', 'guralpremier', 'debuttiyatro', 'yorkkadikoy', 'spitalispecialbahceci', 'ecebelenn', 'ersinceliq', 'greysatelier', 'sarigolbelediyesi', 'umut.cigercisi', 'ikuakingucoditoryumu', 'tcvanvaliligi', 'sivilsayfalar', 'sestri.lifestyle', 'crafttiyatro', '1983beyoglu', 'ardahalil', 'sinemunsal', 'baziseylertiyatrosu', 'ipekkyazici', 'junkeralsancak', 'bihterkocc', 'alinuraktas', 'forkidstyle', 'mesudiyelicom', 'hurriyetkelebek', 'turktelekombasketbol', 'drselcukyuce', 'andacyesilyurt', 'yigitcanic', 'gulercetingoz', 'paktplus', 'tiyatrokast', 'akutdernegi', 'telesuresigorta', 'aperinastudios', 'yenicekoyu43', 'gencliksporbak', 'gittibu_com', 'farukerdem', 'zamanekahvesi', 'ismailsenol', 'senpilic', 'alternatifmarket', 'sehernigiz', 'ozulkutipmerkezi', 'acunilicali', 'adnanturankb', 'ckalebelediye', 'nesrullah.tanglay', 'aslieliftanugursamanci', 'tonyhawk', 'pursuailesi', 'call_me_mumsy', 'kocamaar', 'retinagraphic', 'winblocktr', 'multiplayertv', 'beyoglubld', 'm0rtyrick', 'icindekocvar', 'gshocktr', 'beykozkultursanat', 'ecmelsoylu', 'tevadimadim', 'bursayasam', 'maden_belediyesi', 'trgyguler', 'metanucreative', 'upl.turkey', 'celebizadeonline', 'uclermarket', 'toyganavanoglu', 'agacin.izinde', 'ozhotelstr', 'safamecomercial', '_felxtv_', 'dentsuadiye', 'tiyatroboyalikus', 'basaritelematik', 'ciplakayaklarkumpanyasi', 'mahmut_mirkelamm', 'tekincreativemedia', 'tasovabelediyesi', 'supra_hubs', 'mandalajans', 'ebcinege', 'adilyildirimyazar', 'asiyansanat', 'muharremakcadurak', 'donercibekirzade', 'sherwoodresorts', 'grandyaziciclubturban', 'birbuketmuge', 'bozcaadabld', 'dijitalsosyalmedyam', 'adel.turkiye', 'benim.odam', 'manolyaurkan', 'donerciorhan', 'akcoat_official', 'evimdeterapi', 'zettdekor', 'agrotar_turkey', 'pasinlerbld', 'tipografi', 'nurettinsonmez', 'tubabustun.official', '35likmeyhaneizmir', 'stilac', 'boyrazizolasyon', 'dentisteturkiye', 'altinayteknoloji', 'avbakidemirbas', 'diyeting', 'superfitshoes_turkey', 'diyetebasliyorumcom', 'pizzastationturkiye', 'adiyamanvalilik', 'cevrecienerjidernegi', 'novaarsaofficial', 'rubisaglik', 'denizbaysal_', 'drtubagunebak', 'rotekstekstil', 'burkaystagram', 'yenisehir.bel.tr', 'pelinnarint', 'partibutik', 'simalcerenn', 'buklatur', 'oxabrasive', 'marka.333', 'gulsjourney', 'gdz_edas', 'turyap', 'ugurakkafa', 'tiesfed', 'zabeyazgul', 'fordotosan', 'sevilayyilman', 'instakocaali', 'regispatent', 'lezzetborsasi', 'netafimturkiye', 'evreninmatematigi', 'seyhanlarmarket', 'relaxmodeofficial', 'ataberk.dogan', 'meliketatar', 'tohumgubre', 'ebebek', 'mabbelsatolye', 'hopiapp', 'tariszeytinyagi', 'tahsinhasoglu', 'longosphere', 'peymankuruyemis', 'trendylarahotel', 'pedasled', 'besiktasshipyard', 'puccito', 'malatyakultursosyal', 'sofosistanbul', 'devrimyakut', 'forevernewturkiye', 'valigokmencicek_', 'akbanksanat', 'isaleticom', 'veli.gok32', 'trio_deniz_official', 'mcengizbozkurt', 'istanbulalpplastik', 'pelinsutilki', 'iamemrecaliskan', 'ismailgeduz', 'selfycomtr', 'mstismakinalari', 'studio.oyunculari', 'nexuskuafor', 'cznburak', 'etidanismanlik', 'yildizgaz', 'bademlebuduk', 'sayginbaykaracom', 'onder.sayan', 'tiyatroumay', 'maraskaski', 'bebedorturkey', 'jumboturkiye', 'alacabld', 'bs_forklift', 'superfm', 'yagizkurtulusy', 'yasemoz88', 'thermexturkiye', 'polarisayakkabi', 'edremitbelediye', 'dr.yasirgozu', 'middelrestaurant', 'mtmofamily', 'yelizyesilmen', 'sumerpark_avm', 'sozerinsaatorhangazi', 'digitalaths', 'gulcinsant', 'endlessaksuluayakkabi', 'minisoturkey', 'aysatiyatro', 'artlineturkiye', 'montel.official', 'dizayngroup', 'asliafsaroglu', 'karefilm', 'moc_coffeeofficial', 'talyatasarimtr', 'arguvanbelediyesi', 'cengelofficial', 'ekulak', 'gokgunnec', 'arzumkoyuncu', 'fiyuutr', 'aynesgida', 'oyuncusendika', 'jehanbarbur', 'rafadantayfa', 'basf_tarim_tr', 'ardesenbelediyesi', 'kuirfest', 'olips_tr', 'muzegazhane', 'ondibilisim', 'gazihastanesi', 'gelinevi_tv', 'heyceyn', 'tekhnelogos', 'petadijital', 'gustogiyim', 'akasyaa_avm', 'arslangurerr', 'dr.turhanguldas', 'orcundalarslan', 'alldaycharm', 'mxnsturkey', 'talaycihan', 'kutuphane79', 'sevketcoruh', 'aliyerlikaya_', 'sacimsacinolsun', 'mhmtaktrk', 'jessicamayofficial', 'ceturturkiye', 'elifatalar', 'profdrmurataksoy', 'gastrogezgin', 'axisistanbulavm', 'petopytr', 'berkaytulumbaci', 'evdekolay', 'viteltr', 'merveozbeyofficial', 'no224creative', 'goksu_avm', 'baharakinci', 'mengenbelediyesi1414', 'batuconcept', 'ih_korkmaz', 'piculetstore', 'kadinozsavunma', 'borckabld', 'biryemekiste', 'evkokusu', 'maison_turkey', 'ceyhanbeltr', 'daricabelediyesi', 'korayaydintr', 'izmiretkinlikleri', 'labrandaephesusprincess', 'sanliurfabld', 'eczacibasisporkulubu', 'gulrizandic', 'mustafatokat77', 'iqaluminiumsystems', 'carpetartofficial', 'wcollection', 'kutu.baligi', 'gimatmarketlerzincirii', 'jalpersanofficial', 'luleburgazbld', 'paragrafmedya', 'ozgurcamurlu', 'ekimsanat', 'fixgross', 'konyafarukgulluoglu', 'yiyomfoodblogger', 'dorukyazilim', 'mantragastropub', 'yudumyag', 'kiralarsin', 'orhansef', 'merterenbulbul1', 'antaresavm', 'mutfakta_bebek_var', 'kaanvarli', 'finikebelediye', 'brotherturkey', 'justfeelingstudio', 'gezsenbatman', 'yapimboyle', 'quickchina', 'amazon.tr', 'ihealthsaglik', 'alicanaytekin', 'elegansgrupkagitcilik', 'elementlogistics', 'gumus_bahattin', 'bengikurtcebe', 'asyaalizaude', 'solargezi', 'fevzizirhlioglu', 'kozantepkunefe', 'kasapoglu', 'fourestcalticak', 'altinorumcek', 'arzuakbaszor', 'ahmettatlises', 'didemsoydan', 'acemmarket', 'idasosyalmedya', 'pertekbelediyesi', 'fixpacktr', 'feriyeistanbul', 'okanerertugrul', 'isikcelik.a.s', 'dpperfumum', 'nilaybale', 'fahrigediz', 'vanedremitbld', 'ebruuyucell', 'menopozveyasamtr', 'altekyapi', 'thermomixtr', 'bitaksi', 'antalyakultursanat', 'sergenozn', 'cemuzan', 'enka_insaat_official', 'socialbrandstr', 'alialtuntasbaskan', 'silivritvtr', 'vimerang', 'omurgedik', 'richmondnua', 'psikologmerkezi', 'divan_sarraf', 'baykushbaby', 'kademe.tr', 'motolojim', 'guven_ovun', 'argoalsancak', 'kelambazblog', 'grand_cevahir_hotel', 'aysebilgeselcuk', 'dilekcesur_', 'agoraavm_antalya', 'tugkangonultas', 'roubloff_turkey', 'prof.dr.halilalis', 'driclortr', 'tiyatroterminal', 'cartmancase', 'farkyaratanlarsabancivakfi', 'kosekahve', 'kadikoyboasahne', 'kdzereglitso', 'pepsiturkiye', 'estetikeskisehir', 'itsumijapon', 'dyt.omercanyorulmaz', 'kucukkulup_', 'tugrulkuyumculuk', 'eczozgurozel', 'merrellturkiye', 'rivadent_maltepe', 'gastronometro', 'seyhan_ekspres', 'minikseyler_', 'kasimpasask', 'otokiosktr', 'karasugold', 'mostphotos', 'swothospitality', 'kuff.yeldegirmeni', 'birceakalay', 'aynurtartan', 'brixtonturkiye', 'reklamcikafasi', 'utkucubukcuoglu', 'ucan_baba', 'rehberle', 'ntaslicay', 'dogukan_kilic']\n"
     ]
    }
   ],
   "source": [
    "# Load test usernames\n",
    "with open('test_data/test-classification-round3.dat', 'r', encoding='utf-8') as f:\n",
    "    test_usernames = [line.strip() for line in f.readlines()]\n",
    "\n",
    "print(test_usernames)"
   ]
  },
  {
   "cell_type": "code",
   "execution_count": 6,
   "id": "835fd553-506c-47aa-8da5-dd9ac0354d81",
   "metadata": {},
   "outputs": [
    {
     "name": "stdout",
     "output_type": "stream",
     "text": [
      "0    6\n",
      "1    3\n",
      "2    3\n",
      "3    3\n",
      "4    6\n",
      "Name: label, dtype: int32\n"
     ]
    }
   ],
   "source": [
    "from sklearn.preprocessing import LabelEncoder\n",
    "\n",
    "# Define the categories\n",
    "categories = [\n",
    "    \"Art\",\n",
    "    \"Entertainment\",\n",
    "    \"Fashion\",\n",
    "    \"Food\",\n",
    "    \"Gaming\",\n",
    "    \"Health and Lifestyle\",\n",
    "    \"Mom and Children\",\n",
    "    \"Sports\",\n",
    "    \"Tech\",\n",
    "    \"Travel\"\n",
    "]\n",
    "\n",
    "# Initialize Label Encoder\n",
    "label_encoder = LabelEncoder()\n",
    "label_encoder.fit(categories)\n",
    "\n",
    "# Encode labels in the annotated DataFrame\n",
    "annotated_df = annotated_df[annotated_df['category'].isin(categories)]  # Ensure only valid categories\n",
    "annotated_df['label'] = label_encoder.transform(annotated_df['category'])\n",
    "\n",
    "print(annotated_df['label'].head())"
   ]
  },
  {
   "cell_type": "code",
   "execution_count": 7,
   "id": "985e4dd8-86f5-49de-9f7a-3f9772d6eba5",
   "metadata": {},
   "outputs": [
    {
     "name": "stdout",
     "output_type": "stream",
     "text": [
      "0    taskirancemal 📍Antalya / Kaş Ah Merve ah.. #ti...\n",
      "1    tam_kararinda Milliyet Pazar\\nKalori Alacaksan...\n",
      "2    spart4nn Küçük ev\\nKamp ve doğa hayatı🏕\\nMutfa...\n",
      "3    sosyalyiyiciler Founder @bitte.izmir \\nIZMIR y...\n",
      "4    sonaydizdarahad DİZDAR 🧿 Ahad 🧿 Dağhan \\n@d.a....\n",
      "Name: text, dtype: object\n"
     ]
    }
   ],
   "source": [
    "annotated_df['text'] = annotated_df.apply(\n",
    "    lambda row: f\"{row['username']} {row['biography']} {row['captions']}\",\n",
    "    axis=1\n",
    ")\n",
    "\n",
    "print(annotated_df['text'].head())"
   ]
  },
  {
   "cell_type": "code",
   "execution_count": 8,
   "id": "c5481e09-a5ff-40f6-afb2-d5e42592d72f",
   "metadata": {},
   "outputs": [
    {
     "name": "stdout",
     "output_type": "stream",
     "text": [
      "Training samples: 2467\n",
      "Validation samples: 275\n"
     ]
    }
   ],
   "source": [
    "from sklearn.model_selection import train_test_split\n",
    "\n",
    "train_texts, val_texts, train_labels, val_labels = train_test_split(\n",
    "    annotated_df['text'].tolist(),\n",
    "    annotated_df['label'].tolist(),\n",
    "    test_size=0.1,\n",
    "    random_state=42,\n",
    "    stratify=annotated_df['label']\n",
    ")\n",
    "\n",
    "print(f\"Training samples: {len(train_texts)}\")\n",
    "print(f\"Validation samples: {len(val_texts)}\")"
   ]
  },
  {
   "cell_type": "code",
   "execution_count": 9,
   "id": "aa169277-88db-4d5e-ae21-a15b93307f79",
   "metadata": {},
   "outputs": [],
   "source": [
    "from transformers import BertTokenizer\n",
    "\n",
    "# Load BERTurk tokenizer\n",
    "tokenizer = BertTokenizer.from_pretrained('dbmdz/bert-base-turkish-cased')\n",
    "\n",
    "# Tokenize the texts\n",
    "max_length = 512  # BERT's maximum token length\n",
    "\n",
    "train_encodings = tokenizer(train_texts, truncation=True, padding=True, max_length=max_length)\n",
    "val_encodings = tokenizer(val_texts, truncation=True, padding=True, max_length=max_length)"
   ]
  },
  {
   "cell_type": "code",
   "execution_count": 10,
   "id": "35b5058c-777f-4978-a7a1-678ad618008e",
   "metadata": {},
   "outputs": [
    {
     "name": "stdout",
     "output_type": "stream",
     "text": [
      "Using GPU: NVIDIA GeForce RTX 3060 Laptop GPU\n"
     ]
    }
   ],
   "source": [
    "import torch\n",
    "\n",
    "if torch.cuda.is_available():\n",
    "    device = torch.device('cuda')\n",
    "    print(f\"Using GPU: {torch.cuda.get_device_name(0)}\")\n",
    "else:\n",
    "    device = torch.device('cpu')\n",
    "    print(\"GPU not available, using CPU\")\n",
    "\n",
    "class InstagramDataset(torch.utils.data.Dataset):\n",
    "    def __init__(self, encodings, labels):\n",
    "        self.encodings = encodings\n",
    "        self.labels = labels\n",
    "\n",
    "    def __getitem__(self, idx):\n",
    "        item = {key: torch.tensor(val[idx]) for key, val in self.encodings.items()}\n",
    "        item['labels'] = torch.tensor(self.labels[idx])\n",
    "        return item\n",
    "\n",
    "    def __len__(self):\n",
    "        return len(self.labels)\n",
    "\n",
    "\n",
    "train_dataset = InstagramDataset(train_encodings, train_labels)\n",
    "val_dataset = InstagramDataset(val_encodings, val_labels)"
   ]
  },
  {
   "cell_type": "code",
   "execution_count": 11,
   "id": "69eb7c07-a54e-4bec-b0c7-9b540f12ddea",
   "metadata": {},
   "outputs": [
    {
     "name": "stderr",
     "output_type": "stream",
     "text": [
      "Some weights of BertForSequenceClassification were not initialized from the model checkpoint at dbmdz/bert-base-turkish-cased and are newly initialized: ['classifier.bias', 'classifier.weight']\n",
      "You should probably TRAIN this model on a down-stream task to be able to use it for predictions and inference.\n"
     ]
    },
    {
     "data": {
      "text/plain": [
       "BertForSequenceClassification(\n",
       "  (bert): BertModel(\n",
       "    (embeddings): BertEmbeddings(\n",
       "      (word_embeddings): Embedding(32000, 768, padding_idx=0)\n",
       "      (position_embeddings): Embedding(512, 768)\n",
       "      (token_type_embeddings): Embedding(2, 768)\n",
       "      (LayerNorm): LayerNorm((768,), eps=1e-12, elementwise_affine=True)\n",
       "      (dropout): Dropout(p=0.1, inplace=False)\n",
       "    )\n",
       "    (encoder): BertEncoder(\n",
       "      (layer): ModuleList(\n",
       "        (0-11): 12 x BertLayer(\n",
       "          (attention): BertAttention(\n",
       "            (self): BertSdpaSelfAttention(\n",
       "              (query): Linear(in_features=768, out_features=768, bias=True)\n",
       "              (key): Linear(in_features=768, out_features=768, bias=True)\n",
       "              (value): Linear(in_features=768, out_features=768, bias=True)\n",
       "              (dropout): Dropout(p=0.1, inplace=False)\n",
       "            )\n",
       "            (output): BertSelfOutput(\n",
       "              (dense): Linear(in_features=768, out_features=768, bias=True)\n",
       "              (LayerNorm): LayerNorm((768,), eps=1e-12, elementwise_affine=True)\n",
       "              (dropout): Dropout(p=0.1, inplace=False)\n",
       "            )\n",
       "          )\n",
       "          (intermediate): BertIntermediate(\n",
       "            (dense): Linear(in_features=768, out_features=3072, bias=True)\n",
       "            (intermediate_act_fn): GELUActivation()\n",
       "          )\n",
       "          (output): BertOutput(\n",
       "            (dense): Linear(in_features=3072, out_features=768, bias=True)\n",
       "            (LayerNorm): LayerNorm((768,), eps=1e-12, elementwise_affine=True)\n",
       "            (dropout): Dropout(p=0.1, inplace=False)\n",
       "          )\n",
       "        )\n",
       "      )\n",
       "    )\n",
       "    (pooler): BertPooler(\n",
       "      (dense): Linear(in_features=768, out_features=768, bias=True)\n",
       "      (activation): Tanh()\n",
       "    )\n",
       "  )\n",
       "  (dropout): Dropout(p=0.1, inplace=False)\n",
       "  (classifier): Linear(in_features=768, out_features=10, bias=True)\n",
       ")"
      ]
     },
     "execution_count": 11,
     "metadata": {},
     "output_type": "execute_result"
    }
   ],
   "source": [
    "from transformers import BertForSequenceClassification\n",
    "\n",
    "# Initialize the Model\n",
    "model = BertForSequenceClassification.from_pretrained(\n",
    "    'dbmdz/bert-base-turkish-cased',\n",
    "    num_labels=len(categories),\n",
    "    output_attentions=False,\n",
    "    output_hidden_states=False\n",
    ")\n",
    "\n",
    "# Move model to the specified device\n",
    "model.to(device)"
   ]
  },
  {
   "cell_type": "code",
   "execution_count": 12,
   "id": "b77703a8-fb8c-4502-b14f-249126c56a2b",
   "metadata": {},
   "outputs": [
    {
     "name": "stderr",
     "output_type": "stream",
     "text": [
      "C:\\Users\\Deniz\\AppData\\Local\\Programs\\Python\\Python310\\lib\\site-packages\\transformers\\training_args.py:1575: FutureWarning: `evaluation_strategy` is deprecated and will be removed in version 4.46 of 🤗 Transformers. Use `eval_strategy` instead\n",
      "  warnings.warn(\n"
     ]
    }
   ],
   "source": [
    "from transformers import Trainer, TrainingArguments\n",
    "import numpy as np\n",
    "from sklearn.metrics import accuracy_score, f1_score\n",
    "\n",
    "# Define metrics\n",
    "def compute_metrics(p):\n",
    "    preds = np.argmax(p.predictions, axis=1)\n",
    "    return {\n",
    "        'accuracy': accuracy_score(p.label_ids, preds),\n",
    "        'f1': f1_score(p.label_ids, preds, average='weighted')\n",
    "    }\n",
    "\n",
    "# Define training arguments\n",
    "training_args = TrainingArguments(\n",
    "    output_dir='./results',\n",
    "    num_train_epochs=3,\n",
    "    per_device_train_batch_size=8,\n",
    "    per_device_eval_batch_size=8,\n",
    "    warmup_steps=500,\n",
    "    weight_decay=0.01,\n",
    "    logging_dir='./logs',\n",
    "    logging_steps=10,\n",
    "    logging_strategy='steps',\n",
    "    evaluation_strategy='epoch',\n",
    "    save_strategy='epoch',\n",
    "    load_best_model_at_end=True,\n",
    "    metric_for_best_model='f1',\n",
    "    greater_is_better=True,\n",
    "    no_cuda=False,          # Ensure CUDA is enabled\n",
    "    fp16=True,              # Enable mixed precision\n",
    "    dataloader_num_workers=0,  # Set to 0 to avoid potential issues\n",
    "    run_name=\"berturk-instagram-classifier\"\n",
    ")\n",
    "\n",
    "# Initialize Trainer\n",
    "trainer = Trainer(\n",
    "    model=model,\n",
    "    args=training_args,\n",
    "    train_dataset=train_dataset,\n",
    "    eval_dataset=val_dataset,\n",
    "    compute_metrics=compute_metrics\n",
    ")"
   ]
  },
  {
   "cell_type": "code",
   "execution_count": 13,
   "id": "1c89c404-ab61-4d65-a6f2-386667890840",
   "metadata": {},
   "outputs": [
    {
     "data": {
      "text/html": [
       "\n",
       "    <div>\n",
       "      \n",
       "      <progress value='927' max='927' style='width:300px; height:20px; vertical-align: middle;'></progress>\n",
       "      [927/927 03:45, Epoch 3/3]\n",
       "    </div>\n",
       "    <table border=\"1\" class=\"dataframe\">\n",
       "  <thead>\n",
       " <tr style=\"text-align: left;\">\n",
       "      <th>Epoch</th>\n",
       "      <th>Training Loss</th>\n",
       "      <th>Validation Loss</th>\n",
       "      <th>Accuracy</th>\n",
       "      <th>F1</th>\n",
       "    </tr>\n",
       "  </thead>\n",
       "  <tbody>\n",
       "    <tr>\n",
       "      <td>1</td>\n",
       "      <td>1.064900</td>\n",
       "      <td>1.043354</td>\n",
       "      <td>0.665455</td>\n",
       "      <td>0.641693</td>\n",
       "    </tr>\n",
       "    <tr>\n",
       "      <td>2</td>\n",
       "      <td>0.974400</td>\n",
       "      <td>0.932591</td>\n",
       "      <td>0.709091</td>\n",
       "      <td>0.684254</td>\n",
       "    </tr>\n",
       "    <tr>\n",
       "      <td>3</td>\n",
       "      <td>0.480700</td>\n",
       "      <td>0.950267</td>\n",
       "      <td>0.720000</td>\n",
       "      <td>0.710119</td>\n",
       "    </tr>\n",
       "  </tbody>\n",
       "</table><p>"
      ],
      "text/plain": [
       "<IPython.core.display.HTML object>"
      ]
     },
     "metadata": {},
     "output_type": "display_data"
    },
    {
     "data": {
      "text/plain": [
       "TrainOutput(global_step=927, training_loss=1.1419178914869488, metrics={'train_runtime': 225.9005, 'train_samples_per_second': 32.762, 'train_steps_per_second': 4.104, 'total_flos': 1947424791803904.0, 'train_loss': 1.1419178914869488, 'epoch': 3.0})"
      ]
     },
     "execution_count": 13,
     "metadata": {},
     "output_type": "execute_result"
    }
   ],
   "source": [
    "trainer.train()\n"
   ]
  },
  {
   "cell_type": "code",
   "execution_count": 14,
   "id": "d10c8111-8f21-4282-9220-686ba014be41",
   "metadata": {},
   "outputs": [
    {
     "data": {
      "text/html": [],
      "text/plain": [
       "<IPython.core.display.HTML object>"
      ]
     },
     "metadata": {},
     "output_type": "display_data"
    },
    {
     "data": {
      "text/plain": [
       "{'eval_loss': 0.9502673149108887,\n",
       " 'eval_accuracy': 0.72,\n",
       " 'eval_f1': 0.7101191026643207,\n",
       " 'eval_runtime': 1.8355,\n",
       " 'eval_samples_per_second': 149.823,\n",
       " 'eval_steps_per_second': 19.068,\n",
       " 'epoch': 3.0}"
      ]
     },
     "execution_count": 14,
     "metadata": {},
     "output_type": "execute_result"
    }
   ],
   "source": [
    "trainer.evaluate()"
   ]
  },
  {
   "cell_type": "code",
   "execution_count": 15,
   "id": "9d05a47e-8e6b-499a-8844-ede257b42d45",
   "metadata": {},
   "outputs": [],
   "source": [
    "# Identify usernames not in the annotated training set\n",
    "annotated_usernames = set(annotated_df['username'])\n",
    "test_usernames_set = set(test_usernames)\n",
    "unknown_usernames = test_usernames_set - annotated_usernames\n",
    "\n",
    "# print(f\"Unknown usernames: {unknown_usernames}\")\n",
    "\n",
    "# Fetch profile data for unknown usernames\n",
    "test_texts = []\n",
    "for username in unknown_usernames:\n",
    "    profile = username_to_profile.get(username, {})\n",
    "    biography = profile.get('biography', '')\n",
    "    captions = profile.get('captions', '')\n",
    "    text = f\"{username} {biography} {captions}\"\n",
    "    test_texts.append(text)\n",
    "\n",
    "# Tokenize test texts\n",
    "test_encodings = tokenizer(test_texts, truncation=True, padding=True, max_length=max_length)\n"
   ]
  },
  {
   "cell_type": "code",
   "execution_count": 16,
   "id": "9be35845-a8e6-4263-9204-466b36bb81d7",
   "metadata": {},
   "outputs": [],
   "source": [
    "class TestDataset(torch.utils.data.Dataset):\n",
    "    def __init__(self, encodings):\n",
    "        self.encodings = encodings\n",
    "\n",
    "    def __getitem__(self, idx):\n",
    "        item = {key: torch.tensor(val[idx]) for key, val in self.encodings.items()}\n",
    "        return item\n",
    "\n",
    "    def __len__(self):\n",
    "        return len(self.encodings['input_ids'])\n",
    "\n",
    "\n",
    "test_dataset = TestDataset(test_encodings)"
   ]
  },
  {
   "cell_type": "code",
   "execution_count": 17,
   "id": "671fe5a6-b93d-4143-a7ff-7c365574f5dd",
   "metadata": {},
   "outputs": [
    {
     "name": "stdout",
     "output_type": "stream",
     "text": [
      "{'defneilgaz.com.tr': 'Entertainment', 'aquayasamofficial': 'Health and Lifestyle', 'dogushyilmaz': 'Tech', 'tekhnelogos': 'Tech', 'mesudiyelicom': 'Fashion', 'expertyol': 'Health and Lifestyle', 'ismailsenol': 'Sports', 'marka.333': 'Tech', 'byelergumus': 'Fashion', 'zamanebaba': 'Mom and Children', 'kulabelediyesi': 'Health and Lifestyle', 'normholding': 'Tech', 'supra_hubs': 'Tech', 'krossbisiklet': 'Sports', 'tulugozlu': 'Entertainment', 'olips_tr': 'Food', 'cebirecep': 'Health and Lifestyle', 'fixpacktr': 'Entertainment', 'flotalmirror': 'Fashion', 'batuconcept': 'Fashion', 'amazon.tr': 'Tech', 'gastrogezgin': 'Travel', 'tariszeytinyagi': 'Food', 'gulsjourney': 'Health and Lifestyle', 'celebizadeonline': 'Fashion', 'ondibilisim': 'Tech', 'yelkenrest': 'Food', 'vaziyetcomtr': 'Entertainment', 'tiesfed': 'Sports', 'piculetstore': 'Fashion', 'kosekahve': 'Food', 'wcollection': 'Fashion', 'antmarealacati': 'Travel', 'ciftelerbelediyesi': 'Health and Lifestyle', 'paragrafmedya': 'Tech', 'kilicyarenn': 'Sports', 'erciyes.anadolu': 'Health and Lifestyle', 'ceyhanbeltr': 'Health and Lifestyle', 'hakkiakdenizz': 'Entertainment', 'cilemakar': 'Food', 'cagdasonurozturk': 'Entertainment', 'besiktasbelediyesi': 'Health and Lifestyle', 'keciorenbelediyesi06': 'Health and Lifestyle', 'turkiyekickboksfederasyonu': 'Sports', 'imoykukarayel': 'Tech', 'cookluhayat': 'Food', 'ozelaydingoz': 'Health and Lifestyle', 'tezatsanat': 'Entertainment', 'ipekkyazici': 'Art', 'okanerertugrul': 'Food', 'katalportmarin': 'Travel', 'partibutik': 'Food', 'theboviera': 'Travel', 'okanyanmazcom': 'Health and Lifestyle', 'yapikredibomontiada': 'Art', 'artonistanbul': 'Art', 'annebebekdergisii': 'Mom and Children', 'argoalsancak': 'Food', 'kumpirbox': 'Food', 'antalyakultursanat': 'Art', 'bebedorturkey': 'Mom and Children', 'gulben123': 'Entertainment', 'guralpremier': 'Travel', 'yemekcom': 'Food', 'merterenbulbul1': 'Entertainment', 'cnridentex': 'Health and Lifestyle', 'mplusturkiye': 'Tech', 'ikicay': 'Travel', 'bisalt': 'Food', 'ozkocengin': 'Health and Lifestyle', 'tusasshop': 'Tech', 'filtresizcom': 'Entertainment', 'edremitbelediye': 'Health and Lifestyle', 'seyhan_ekspres': 'Tech', 'veli.gok32': 'Health and Lifestyle', 'alikerimdiler': 'Art', 'turktelekombasketbol': 'Sports', 'kocamaar': 'Food', 'lezzetborsasi': 'Food', 'cemuzan': 'Sports', 'menopozveyasamtr': 'Health and Lifestyle', 'gursueraykirtasiye': 'Art', 'guncesanattiyatrosu': 'Entertainment', 'pelinnarint': 'Health and Lifestyle', 'thermexturkiye': 'Tech', 'konyafarukgulluoglu': 'Food', 'herseyyanimda': 'Tech', 'zabeyazgul': 'Health and Lifestyle', '3durak': 'Art', 'mbbkulturas': 'Entertainment', 'mesdokum': 'Tech', 'evdekolay': 'Food', 'ebebek': 'Mom and Children', 'ekulak': 'Art', 'jumboturkiye': 'Food', 'webajans': 'Tech', 'mamaspapas.tr': 'Mom and Children', 'donerciorhan': 'Food', 'sevilayyilman': 'Art', 'aliyerlikaya_': 'Health and Lifestyle', 'driclortr': 'Health and Lifestyle', 'drenginocal': 'Health and Lifestyle', 'armonipark': 'Entertainment', 'beiniztv': 'Entertainment', 'yagizkurtulusy': 'Fashion', 'merrellturkiye': 'Fashion', 'tcvanvaliligi': 'Health and Lifestyle', 'akinyucel': 'Health and Lifestyle', 'winblocktr': 'Tech', 'ozgefiskin': 'Entertainment', 'gulcinsant': 'Entertainment', 'rotekstekstil': 'Tech', 'tiyatroboyalikus': 'Art', 'aysatiyatro': 'Entertainment', 'manolyaurkan': 'Art', 'vanedremitbld': 'Health and Lifestyle', 'heyceyn': 'Fashion', 'kuff.yeldegirmeni': 'Art', 'paktplus': 'Entertainment', 'esila_kids': 'Fashion', 'adiyamanvalilik': 'Health and Lifestyle', 'thecompanytr': 'Fashion', 'kdzereglitso': 'Health and Lifestyle', 'oyuncusendika': 'Entertainment', 'ozdilekboluavm': 'Fashion', 'sehernigiz': 'Food', 'borusanlojistik': 'Tech', 'beyoglubld': 'Art', 'gulgrupgayrimenkul': 'Travel', 'duzicibld': 'Health and Lifestyle', 'seyfidingil': 'Health and Lifestyle', '01burdaavm': 'Food', 'gufojewelry': 'Fashion', 'pelinkarahan': 'Fashion', 'kadikoyemek': 'Art', 'galvinnisantasi': 'Food', 'kutu.baligi': 'Travel', 'denizlibbld': 'Health and Lifestyle', 'ogretmeninkaleminden_': 'Travel', 'ecmelsoylu': 'Health and Lifestyle', 'kadinlarfestivali': 'Entertainment', 'uzmananahtar': 'Tech', 'lokmacafe': 'Food', 'jehanbarbur': 'Travel', 'yorglass': 'Tech', 'upl.turkey': 'Tech', 'mikronajans': 'Entertainment', 'mahmut_mirkelamm': 'Health and Lifestyle', 'karasugold': 'Fashion', 'seyitaliofficial': 'Entertainment', 'grisahne': 'Art', 'birayetarapca': 'Health and Lifestyle', 'mesutscl': 'Art', 'iremsak': 'Fashion', 'ebruuyucell': 'Fashion', 'podyumsanatmahal': 'Art', 'ahmetipeksucuklariafyon': 'Food', 'elegansgrupkagitcilik': 'Tech', 'transparentproductions': 'Art', 'hedefbeytotel': 'Travel', 'dedemankonyahotel': 'Travel', 'arzumkoyuncu': 'Health and Lifestyle', 'maden_belediyesi': 'Health and Lifestyle', 'acemmarket': 'Tech', 'kelambazblog': 'Art', 'kasimpasask': 'Sports', 'ysdistanbul': 'Art', 'debuttiyatro': 'Entertainment', 'ilhansen': 'Art', 'aynurtartan': 'Entertainment', 'tevadimadim': 'Health and Lifestyle', 'meliskaracam': 'Entertainment', 'ilkergodencemobilya': 'Fashion', 'evkokusu': 'Art', 'deppo_avantaj': 'Fashion', 'duzcehalkmar': 'Health and Lifestyle', 'turkiyedagcilik': 'Sports', 'pekcetintemizlik': 'Health and Lifestyle', 'ersinceliq': 'Health and Lifestyle', 'andacyesilyurt': 'Food', 'tahsinhasoglu': 'Entertainment', 'aperinastudios': 'Art', 'tuna.food': 'Food', 'gurmerehber': 'Food', 'kemerlizimba': 'Tech', 'kirencekaya_balikcisi': 'Food', 'pertekbelediyesi': 'Travel', 'tarkan': 'Entertainment', 'generalmobile': 'Tech', '1983beyoglu': 'Food', 'kaanurgancioglu': 'Tech', 'grandyaziciclubturban': 'Travel', 'elvanreklamtr': 'Entertainment', 'nihatatli.tr': 'Health and Lifestyle', 'dr.yasirgozu': 'Health and Lifestyle', 'dyt.omercanyorulmaz': 'Food', 'ucan_baba': 'Mom and Children', 'karincaproduksiyon': 'Entertainment', 'magnumenerji': 'Tech', 'kayihanpala': 'Entertainment', 'bademlebuduk': 'Health and Lifestyle', 'dilekcesur_': 'Health and Lifestyle', 'muhikucom': 'Art', 'pelinyarr': 'Food', 'evreninmatematigi': 'Health and Lifestyle', 'hamzaefendi': 'Food', 'unicosigorta': 'Tech', 'estetikeskisehir': 'Health and Lifestyle', 'primemallantakya': 'Entertainment', 'hamzayilmazmucevherat': 'Fashion', 'unuttumsanmacom': 'Art', 'malatyapark': 'Entertainment', 'nurettinsonmez': 'Art', 'zpor': 'Sports', 'keyifbebesi': 'Mom and Children', 'superfm': 'Entertainment', 'beka_beka_anaokulu': 'Mom and Children', 'hyattregencyistanbulatakoy': 'Travel', 'pedasled': 'Tech', 'nexuskuafor': 'Health and Lifestyle', 'novax_gozluk_camlari': 'Tech', 'dokusanatatolyesi': 'Art', 'alvisajanss': 'Tech', 'engeenergy': 'Tech', 'sherwoodresorts': 'Travel', 'sinemunsal': 'Fashion', 'nurgulyesilcayy': 'Entertainment', 'cartmancase': 'Tech', 'prohealthgenetictests': 'Health and Lifestyle', 'buyukdere35': 'Art', 'mutfaktayusufvar': 'Food', 'samuthatr': 'Health and Lifestyle', 'turkistanpazari': 'Travel', 'nestleturkiye': 'Food', 'livapastanesi': 'Food', 'alpatayazilim': 'Tech', 'erzincansuleymankaraman': 'Health and Lifestyle', 'talyakizyurdu': 'Health and Lifestyle', 'ipekpamuk': 'Health and Lifestyle', 'imamoglu.belediyesi': 'Health and Lifestyle', 'ezomola': 'Health and Lifestyle', 'simalcerenn': 'Fashion', 'gulercetingoz': 'Fashion', 'omurgedik': 'Entertainment', 'oztayteksofficial': 'Fashion', 'bungalovoteller': 'Travel', 'justfeelingstudio': 'Entertainment', 'adel.turkiye': 'Art', 'akasyaa_avm': 'Fashion', 'ahmettatlises': 'Food', 'yiyomfoodblogger': 'Food', 'pizzastationturkiye': 'Food', 'ardesenbelediyesi': 'Health and Lifestyle', 'imuneksfarma': 'Health and Lifestyle', 'selfycomtr': 'Tech', 'adilyildirimyazar': 'Health and Lifestyle', 'agacin.izinde': 'Art', 'seyhanlarmarket': 'Tech', 'yedibilgeler': 'Food', 'yoldalogistics': 'Tech', 'daricabelediyesi': 'Health and Lifestyle', 'merveozbeyofficial': 'Entertainment', 'sarikizmadensuyu': 'Food', 'cizmecikedi': 'Entertainment', 'bengikurtcebe': 'Food', 'mekpan_panel': 'Tech', 'kutuphane79': 'Art', 'labrandaephesusprincess': 'Travel', 'aysebilgeselcuk': 'Mom and Children', 'uzmanturizm': 'Travel', 'vadistanbul': 'Entertainment', 'finikebelediye': 'Health and Lifestyle', 'yigitcanic': 'Health and Lifestyle', 'isaleticom': 'Tech', 'freshscarfs': 'Fashion', 'tugkangonultas': 'Entertainment', 'drtubagunebak': 'Health and Lifestyle', 'denizbaysal_': 'Entertainment', 'crmbelediyesi': 'Health and Lifestyle', 'icindekocvar': 'Health and Lifestyle', 'acemdenizyel': 'Art', 'karsiyakabelediyesi': 'Travel', 'iqaluminiumsystems': 'Tech', 'bruderturkiye': 'Tech', 'beachandbeyondswimwear': 'Fashion', 'turyap': 'Tech', 'instakocaali': 'Travel', 'alacabld': 'Health and Lifestyle', 'narkoyjournal': 'Travel', 'gupseo': 'Entertainment', 'halisunasyoncoffee': 'Art', 'kurulusdizisi': 'Entertainment', 'koleksiyonerberber': 'Fashion', 'idaorgonite': 'Health and Lifestyle', 'yenisafak': 'Health and Lifestyle', 'biostoretr': 'Health and Lifestyle', 'umut.cigercisi': 'Food', 'ikuakingucoditoryumu': 'Entertainment', 'mhmtaktrk': 'Health and Lifestyle', 'selinayalcn': 'Food', 'schweppes_tr': 'Tech', 'mersinsensin': 'Travel', 'seyirdernegi': 'Entertainment', 'calgontr': 'Tech', 'kasapoglu': 'Sports', 'assosdiamond': 'Fashion', 'yapimboyle': 'Entertainment', 'kuirfest': 'Entertainment', 'lastdoor_tr': 'Tech', 'uclermarket': 'Food', 'benim.odam': 'Mom and Children', 'gezmelerdeyim': 'Travel', 'tiyatroyeniden_official': 'Entertainment', 'drderyacan': 'Health and Lifestyle', 'hurriyetkelebek': 'Entertainment', 'mustafakoleoglu': 'Health and Lifestyle', 'junkeralsancak': 'Food', 'cznburak': 'Food', 'gulseli.com.tr': 'Fashion', 'kuzucu_mucevherat': 'Fashion', 'sefkatpeker': 'Travel', 'celsuskitabevi': 'Health and Lifestyle', 'duygubie': 'Fashion', 'alternatifmarket': 'Tech', 'baykushbaby': 'Mom and Children', 'dr.gokalpdizdar': 'Health and Lifestyle', 'arminesiirtpark': 'Fashion', 'agrotar_turkey': 'Tech', 'donerci_serkan_usta': 'Food', 'mehmetcikvakfi': 'Entertainment', 'ankarabbld': 'Health and Lifestyle', 'erenoren': 'Fashion', 'operaistanbul': 'Mom and Children', 'altinayteknoloji': 'Tech', 'bskulgurgokhan_': 'Health and Lifestyle', 'lebleukusadasi': 'Travel', 'cemseymen': 'Health and Lifestyle', 'sayginbaykaracom': 'Tech', 'ecovero.turkey': 'Fashion', 'milliyiyici': 'Food', 'kadinozsavunma': 'Health and Lifestyle', 'mustafatokat77': 'Health and Lifestyle', 'zerrintekindor': 'Art', 'tubabustun.official': 'Art', 'jalpersanofficial': 'Fashion', 'lemonadeagency': 'Tech', 'acibadem.international': 'Health and Lifestyle', 'etidanismanlik': 'Tech', 'birceakalay': 'Entertainment', 'aynesgida': 'Food', 'dericompany': 'Fashion', 'bitaksi': 'Travel', 'pursuailesi': 'Food', 'zulaoyun': 'Gaming', 'ayvalikescbilisim': 'Tech', 'fahrigediz': 'Food', 'roubloff_turkey': 'Art', 'milangaz': 'Tech', 'eminoguzcelebi': 'Travel', 'resoundturkiye': 'Tech', 'onlembebekbezi': 'Mom and Children', 'nevzatozkur0': 'Sports', 'vineturkiyem': 'Art', 'asaspen.veratec': 'Tech', 'aleynaclsknn': 'Fashion', 'psikezone': 'Health and Lifestyle', 'besaygold': 'Fashion', 'alperenduymaz': 'Entertainment', 'gumus_bahattin': 'Health and Lifestyle', 'rehberle': 'Travel', 'onder.sayan': 'Food', 'gcaturkiye': 'Tech', 'diyeting': 'Food', 'mabbelsatolye': 'Art', 'jessicamayofficial': 'Art', 'mantragastropub': 'Art', 'akyuzmobilyaurfa': 'Fashion', 'biryemekiste': 'Food', 'boztaspremium': 'Fashion', 'etimesgutbld': 'Health and Lifestyle', 'everfastenings': 'Food', 'roofgamesstudio': 'Tech', 'huseyinkabisteke': 'Entertainment', 'tarsusbelediyesi': 'Health and Lifestyle', 'gulsenbubikogluofficial': 'Fashion', 'kadindayanismavakfi': 'Health and Lifestyle', 'gimatmarketlerzincirii': 'Tech', 'trendmobilyacom': 'Fashion', 'este.foot': 'Health and Lifestyle', 'serhanonat': 'Travel', 'sezergsm38': 'Tech', 'yildizgaz': 'Tech', 'talaycihan': 'Art', 'asyaalizaude': 'Fashion', 'rivadent_maltepe': 'Health and Lifestyle', 'sofosistanbul': 'Travel', 'ozatashipyard': 'Tech', 'ahlparkavm': 'Entertainment', 'pinarhepyanimda': 'Food', 'diyetebasliyorumcom': 'Health and Lifestyle', 'komunpub': 'Entertainment', 'nilaybale': 'Art', 'kaanvarli': 'Entertainment', 'grand_cevahir_hotel': 'Travel', 'ahmethamdigork': 'Health and Lifestyle', 'bancocomtr': 'Fashion', 'enka_insaat_official': 'Tech', 'ladymiena': 'Fashion', 'karaman.bel.tr': 'Health and Lifestyle', 'richmondpamukkale': 'Travel', 'soyturkrabia': 'Fashion', 'ferideozdincc': 'Fashion', 'craftdesignistanbul': 'Fashion', 'ketebe': 'Art', 'kapadokyazeppelin': 'Travel', '253binyasin': 'Mom and Children', 'kasaphansteakhouse': 'Food', 'konseptkutucom': 'Art', 'cubocomtr': 'Art', 'thermomixtr': 'Tech', 'axisistanbulavm': 'Fashion', 'dijiatolye': 'Food', 'pepsiturkiye': 'Food', 'avmorion': 'Fashion', 'ninovaparkavm': 'Entertainment', 'guven_ovun': 'Health and Lifestyle', 'gocaagonyali': 'Entertainment', 'yfatihcoban': 'Tech', 'serdarsandal35': 'Health and Lifestyle', 'sanliurfabld': 'Health and Lifestyle', 'akutdernegi': 'Health and Lifestyle', 'bozcaadabld': 'Health and Lifestyle', 'fdnsirketlergrubu': 'Health and Lifestyle', 'jciistanbul': 'Health and Lifestyle', 'artlineturkiye': 'Art', 'profdrmurataksoy': 'Health and Lifestyle', 'alacatibeachresort': 'Travel', 'regispatent': 'Tech', 'dorukyazilim': 'Tech', 'rustik.rus.restorani': 'Food', 'meltem.hastanesi': 'Health and Lifestyle', 'itef_istanbul': 'Entertainment', 'uberkuloz': 'Entertainment', 'akgunwalker': 'Travel', 'btginsaat': 'Tech', 'ilaydaakdogan': 'Fashion', 'getir': 'Health and Lifestyle', 'crafttiyatro': 'Entertainment', 'nesrullah.tanglay': 'Health and Lifestyle', 'rafadantayfa': 'Entertainment', 'gercekmutfak': 'Food', 'buyukekerbijon': 'Tech', 'bilkenttiyatro': 'Art', 'mediviasaglikgrubu': 'Health and Lifestyle', 'hopiapp': 'Entertainment', 'ezgi_basaran': 'Art', 'gshocktr': 'Fashion', 'tekincreativemedia': 'Tech', 'didemsoydan': 'Fashion', 'levonbagis': 'Food', 'basf_tarim_tr': 'Food', 'cevrecienerjidernegi': 'Tech', 'babylissturkiye': 'Fashion', 'enmutluoldugumyer': 'Art', 'umit_ozlale': 'Health and Lifestyle', 'gezmedenbilemezsin': 'Travel', 'murat.besikci': 'Health and Lifestyle', 'hyattregencyizmir_istinyepark': 'Art', 'burcinterzioglu': 'Entertainment', 'gaziantepbeld': 'Health and Lifestyle', 'brandingturkiye': 'Tech', 'pak_metal': 'Tech', 'puccito': 'Health and Lifestyle', 'ekimsanat': 'Entertainment', 'girafestore': 'Fashion', 'quickchina': 'Food', 'endlessaksuluayakkabi': 'Fashion', 'resimlimagnet_com': 'Art', 'arzuakbaszor': 'Entertainment', 'boschturkiyekariyer': 'Tech', 'baziseylertiyatrosu': 'Entertainment', 'kadikoyboasahne': 'Art', 'no224creative': 'Health and Lifestyle', 'brkhkmn': 'Travel', 'birunitiyatro': 'Art', 'kendinemuzisyen': 'Entertainment', 'technical_sharing': 'Tech', 'ozanyigitt': 'Entertainment', '35likmeyhaneizmir': 'Food', 'tkdkordu': 'Food', 'ankaragucufp': 'Sports', 'retinagraphic': 'Art', 'farkyaratanlarsabancivakfi': 'Health and Lifestyle', 'ahlatbld': 'Health and Lifestyle', 'ozeltanyeri': 'Mom and Children', 'leylasapmazz': 'Sports', 'mandalajans': 'Food', 'maraskaski': 'Health and Lifestyle', 'dogukan_kilic': 'Food', 'yorkkadikoy': 'Food', 'antaresavm': 'Fashion', 'thelevanttahinier': 'Food', 'idasosyalmedya': 'Tech', 'hakansuer41': 'Entertainment', 'izzettinyilmaztr': 'Health and Lifestyle', 'aliyagciii': 'Fashion', 'transeshairtransplant': 'Health and Lifestyle', 'viastudio': 'Tech', 'basaritelematik': 'Tech', 'otokiosktr': 'Tech', 'arguvanbelediyesi': 'Health and Lifestyle', 'ciplakayaklarkumpanyasi': 'Art', 'montel.official': 'Fashion', 'novotel_bosphorus': 'Travel', 'kademe.tr': 'Tech', 'akbarkodetiket': 'Tech', 'iyigelecekelcileri': 'Health and Lifestyle', 'ozelkonakhastanesi': 'Health and Lifestyle', 'nurullahsavasresmi': 'Health and Lifestyle', 'evimdeterapi': 'Health and Lifestyle', 'meliketatar': 'Fashion', 'goksu_avm': 'Fashion', 'imok_studio': 'Fashion', 'karefilm': 'Entertainment', 'psikologmerkezi': 'Health and Lifestyle', 'odyomedbursa': 'Health and Lifestyle', 'veritameyve': 'Food', 'simaybarlass': 'Fashion', 'malatyakultursosyal': 'Entertainment', 'ibrahim__varli': 'Entertainment', 'gezginsincap': 'Travel', 'novaarsaofficial': 'Health and Lifestyle', 'dytgozdembasarir': 'Health and Lifestyle', 'kesfetmek_guzeldir': 'Food', 'avmpomelon': 'Entertainment', 'swipeline': 'Tech', 'pivoraizmir': 'Food', 'porlandgastro': 'Food', 'sana_turkiye': 'Food', 'evimin.yemekleri': 'Food', 'yenisehir.bel.tr': 'Health and Lifestyle', 'mostphotos': 'Art', 'kadinkoalisyonu': 'Health and Lifestyle', 'iremhlvcioglu': 'Fashion', 'yudumyag': 'Food', 'digitalagencynetwork': 'Tech', 'silopibld': 'Health and Lifestyle', 'akifergurumtr': 'Mom and Children', 'stilac': 'Entertainment', 'yigitpoyrazz': 'Fashion', '3eeemedya': 'Tech', 'nihatcan11': 'Health and Lifestyle', 'ozulkutipmerkezi': 'Entertainment', 'ulubeybelediyesi': 'Travel', 'kirmiziocakbasi': 'Food', 'ecebelenn': 'Entertainment', 'mmkmetalurji': 'Tech', 'oxabrasive': 'Tech', 'deutz_fahr_turkey': 'Tech', 'sailturkiyeracing': 'Travel', 'solargezi': 'Health and Lifestyle', 'asliafsaroglu': 'Health and Lifestyle', 'arslangurerr': 'Health and Lifestyle', 'izmirhim': 'Health and Lifestyle', 'haribochamallows': 'Food', 'globaldentaleskisehir': 'Health and Lifestyle', 'aycasenbaskan': 'Health and Lifestyle', 'drselcukyuce': 'Health and Lifestyle', 'talha_karci': 'Travel', 'forevernewturkiye': 'Fashion', 'gsb_erzincan': 'Sports', 'sebnemcapa': 'Travel', 'richhousebistro': 'Entertainment', 'peymankuruyemis': 'Food', 'motolojim': 'Tech', 'gittibu_com': 'Fashion', 'remedassistance': 'Tech', 'silivritvtr': 'Health and Lifestyle', 'tekinozalit': 'Tech', 'zamanekahvesi': 'Food', 'adiyaman_park_avm': 'Fashion', 'edisdeposu': 'Health and Lifestyle', 'izmirekolhastanesi': 'Health and Lifestyle', 'greysatelier': 'Art', 'gci.tuerkei': 'Tech', 'virahabercom': 'Travel', '___daire___': 'Art', 'sestri.lifestyle': 'Travel', 'istanbulalpplastik': 'Tech', 'dpperfumum': 'Fashion', 'thecitysuitestr': 'Travel', 'mylittleponytr': 'Mom and Children', 'omsvibro': 'Fashion', 'alinuraktas': 'Health and Lifestyle', 'dentsuadiye': 'Health and Lifestyle', 'ontangrup': 'Tech', 'socratesbistro': 'Food', 'etolyadigital': 'Tech', 'zettdekor': 'Fashion', 'elifatalar': 'Food', 'gursubeltr': 'Health and Lifestyle', 'caddekultursanat': 'Art', 'erenkoy_danismanlik': 'Mom and Children', 'tipografi': 'Art', 'fiyuutr': 'Tech', 'bvbajans': 'Art', 'gdz_edas': 'Tech', 'fixgross': 'Food', 'rizepazarbelediyesi': 'Health and Lifestyle', 'gencliksporbak': 'Sports', 'cengelofficial': 'Entertainment', 'digitalaths': 'Gaming', 'ozgurcamurlu': 'Art', 'westchocolatemarina': 'Food', 'birbuketmuge': 'Travel', 'mekoglobal': 'Tech', 'rozetsepeti': 'Tech', 'brotherturkey': 'Tech', 'mtmofamily': 'Art', 'arkas_spor': 'Sports', 'pylsmn': 'Entertainment', 'tijenaktay': 'Food', 'mengenbelediyesi1414': 'Health and Lifestyle', 'maison_turkey': 'Travel', 'minisoturkey': 'Fashion', 'ktheventagency': 'Entertainment', 'yelizyesilmen': 'Entertainment', 'dizayngroup': 'Tech', 'promosyonizmir': 'Art', 'mastercardturkiye': 'Food', 'elkon_official': 'Tech', 'huaweimobiletr': 'Tech', 'senpilic': 'Food', 'iyigelir.biz': 'Health and Lifestyle', 'ahbap': 'Health and Lifestyle', 'lineersoft': 'Tech', 'datcabelediyesi': 'Travel', 'ozaysendir': 'Travel', 'ececesmioglu': 'Entertainment', 'sirenebelekhotel': 'Travel', 'prof.dr.halilalis': 'Health and Lifestyle', 'barcintancan': 'Health and Lifestyle', 'imtolstoyevski': 'Entertainment', 'fordotosan': 'Tech', 'pasta34shop': 'Food', 'profdrmuratbas': 'Health and Lifestyle', 'denizcanaktasofficial': 'Art', 'sergenozn': 'Food', 'ayhancanguven': 'Sports', 'baselifeclub': 'Sports', 'antolojiankara': 'Art', 'eczacibasisporkulubu': 'Sports', 'tufanlarkuyumculuk': 'Fashion', 'trio_deniz_official': 'Travel', 'tulayerciyaskayaa': 'Health and Lifestyle', 'kesifmekan': 'Food', 'izmiretkinlikleri': 'Entertainment', 'biancaboya': 'Art', 'kentmeydaniavm': 'Entertainment', 'erkek_bileklik_modelleri': 'Fashion', 'whatupmell': 'Fashion', 'korayaydintr': 'Health and Lifestyle', 'braunhouseholdturkey': 'Tech', 'solcugazete': 'Art', 'arifibrahimoff': 'Entertainment', 'serpilexclusive': 'Fashion', 'reklamcikafasi': 'Entertainment', 'yegezokuyaz': 'Travel', 'logoyazilimkariyer': 'Tech', 'kucukkulup_': 'Food', 'gayretmakina': 'Tech', 'tc_giresunvaliligi': 'Health and Lifestyle', 'abdullahozdemirbb': 'Health and Lifestyle', 'drbrkzks': 'Health and Lifestyle', 'aslieliftanugursamanci': 'Food', 'ozdilekusakavm': 'Entertainment', 'pelinsutilki': 'Entertainment', 'valigokmencicek_': 'Health and Lifestyle', 'gaiaandco': 'Food', 'elementlogistics': 'Tech', 'zodyakli': 'Fashion', 'tavtechnologies': 'Tech', 'multiplayertv': 'Gaming', 'fevzizirhlioglu': 'Health and Lifestyle', 'tiyatroterminal': 'Art', 'gomecbelediyesi': 'Health and Lifestyle', 'ecift': 'Tech', 'sahanepazar': 'Food', 'forkidstyle': 'Fashion', 'ozhotelstr': 'Travel', 'mirdellav': 'Tech', 'trendyolhizlimarket': 'Food', 'akbanksanat': 'Art', 'dr.turhanguldas': 'Health and Lifestyle', 'kore_kultur_merkezi': 'Entertainment', 'westparkoutlet': 'Entertainment', 'sarigolbelediyesi': 'Health and Lifestyle', 'petadijital': 'Tech', 'pozitif.dusunceler': 'Health and Lifestyle', 'tosunpasaalacati': 'Food', 'ckalebelediye': 'Health and Lifestyle', 'dirim.metal': 'Tech', 'medyaevi_iletisim': 'Food', 'yasemoz88': 'Entertainment', 'orhansef': 'Food', 'dilart.design': 'Tech', 'tulinnalbayrak': 'Food', 'trtworld': 'Travel', 'muharremakcadurak': 'Health and Lifestyle', 'ceturturkiye': 'Sports', 'ege_koy_mahsulleri': 'Food', 'trgyguler': 'Entertainment', 'antmodern': 'Health and Lifestyle', 'erdqtr': 'Travel', 'acunilicali': 'Sports', 'istanbul_halidunyasi': 'Fashion', 'yuncualimagazalari': 'Fashion', 'orcundalarslan': 'Travel', '_felxtv_': 'Entertainment', 'hisliseyler': 'Health and Lifestyle', 'bs_forklift': 'Tech', 'feriyeistanbul': 'Food', 'novikovbodrum': 'Travel', 'fishorg': 'Art', 'metanucreative': 'Tech', 'cetinkayapano': 'Tech', 'buklatur': 'Travel', '3d_maket': 'Art', 'toyganavanoglu': 'Entertainment', 'boyrazizolasyon': 'Tech', 'oguzhankapilar': 'Sports', 'babilkulesi_': 'Entertainment', 'perlavista_avm': 'Entertainment', 'yazyuceil': 'Food'}\n"
     ]
    }
   ],
   "source": [
    "# Predict using the Trainer\n",
    "predictions = trainer.predict(test_dataset)\n",
    "pred_labels = np.argmax(predictions.predictions, axis=1)\n",
    "pred_categories = label_encoder.inverse_transform(pred_labels)\n",
    "\n",
    "# Map predictions back to usernames\n",
    "unknown_usernames_list = list(unknown_usernames)\n",
    "predicted_categories_dict = dict(zip(unknown_usernames_list, pred_categories))\n",
    "\n",
    "print(predicted_categories_dict)"
   ]
  },
  {
   "cell_type": "code",
   "execution_count": 18,
   "id": "a4bb6573-3182-4d7c-934e-ca5f89f3c821",
   "metadata": {},
   "outputs": [
    {
     "data": {
      "text/html": [],
      "text/plain": [
       "<IPython.core.display.HTML object>"
      ]
     },
     "metadata": {},
     "output_type": "display_data"
    },
    {
     "name": "stdout",
     "output_type": "stream",
     "text": [
      "Accuracy: 0.72\n",
      "\n",
      "Classification Report:\n",
      "                      precision    recall  f1-score   support\n",
      "\n",
      "                 Art       0.70      0.37      0.48        19\n",
      "       Entertainment       0.50      0.44      0.47        32\n",
      "             Fashion       0.69      0.80      0.74        30\n",
      "                Food       0.84      0.90      0.87        51\n",
      "              Gaming       0.00      0.00      0.00         1\n",
      "Health and Lifestyle       0.68      0.80      0.74        51\n",
      "    Mom and Children       0.78      0.47      0.58        15\n",
      "              Sports       0.62      0.73      0.67        11\n",
      "                Tech       0.77      0.77      0.77        35\n",
      "              Travel       0.80      0.80      0.80        30\n",
      "\n",
      "            accuracy                           0.72       275\n",
      "           macro avg       0.64      0.61      0.61       275\n",
      "        weighted avg       0.72      0.72      0.71       275\n",
      "\n"
     ]
    }
   ],
   "source": [
    "import numpy as np\n",
    "from sklearn.metrics import accuracy_score, classification_report\n",
    "\n",
    "# =========================\n",
    "# After Training is Complete\n",
    "# =========================\n",
    "\n",
    "# 1. Generate Predictions on the Validation Set\n",
    "predictions = trainer.predict(val_dataset)\n",
    "\n",
    "# 2. Extract Predicted Labels and True Labels\n",
    "pred_logits = predictions.predictions\n",
    "y_val_pred = np.argmax(pred_logits, axis=1)\n",
    "y_val = predictions.label_ids\n",
    "\n",
    "# 3. Compute Accuracy\n",
    "accuracy = accuracy_score(y_val, y_val_pred)\n",
    "print(\"Accuracy:\", accuracy)\n",
    "\n",
    "# 4. Generate Classification Report\n",
    "target_names = label_encoder.classes_  # Ensure this matches your label encoder\n",
    "report = classification_report(y_val, y_val_pred, target_names=target_names, zero_division=0)\n",
    "print(\"\\nClassification Report:\")\n",
    "print(report)"
   ]
  },
  {
   "cell_type": "code",
   "execution_count": 19,
   "id": "ee8c9470-7c47-41a6-9d41-4a5d9cccf7f8",
   "metadata": {},
   "outputs": [
    {
     "data": {
      "image/png": "[encoded data removed]",
      "text/plain": [
       "<Figure size 1000x800 with 2 Axes>"
      ]
     },
     "metadata": {},
     "output_type": "display_data"
    }
   ],
   "source": [
    "from sklearn.metrics import confusion_matrix\n",
    "import matplotlib.pyplot as plt\n",
    "import seaborn as sns\n",
    "\n",
    "# Compute the confusion matrix\n",
    "cm = confusion_matrix(y_val, y_val_pred)\n",
    "\n",
    "# Optionally normalize the confusion matrix\n",
    "cm_normalized = confusion_matrix(y_val, y_val_pred, normalize='true')  # Normalize by row\n",
    "\n",
    "# Plot confusion matrix\n",
    "plt.figure(figsize=(10, 8))\n",
    "sns.heatmap(cm, annot=True, fmt='d', cmap='Blues', xticklabels=target_names, yticklabels=target_names)\n",
    "plt.xlabel('Predicted Labels')\n",
    "plt.ylabel('True Labels')\n",
    "plt.title('Confusion Matrix')\n",
    "plt.show()"
   ]
  },
  {
   "cell_type": "code",
   "execution_count": 20,
   "id": "b1c97fc7-cf92-4d5a-b8ae-81babb8784f6",
   "metadata": {},
   "outputs": [
    {
     "name": "stdout",
     "output_type": "stream",
     "text": [
      "Final predictions saved to prediction-classification-round1_testoutput.json\n"
     ]
    }
   ],
   "source": [
    "final_predictions = {}\n",
    "\n",
    "# Assign categories from annotated CSV\n",
    "annotated_test_df = annotated_df[annotated_df['username'].isin(test_usernames)]\n",
    "for _, row in annotated_test_df.iterrows():\n",
    "    final_predictions[row['username']] = row['category']\n",
    "\n",
    "# Assign predicted categories for unknown usernames\n",
    "final_predictions.update(predicted_categories_dict)\n",
    "\n",
    "# Save final predictions to a JSON file\n",
    "output_filename = \"prediction-classification-round1_testoutput.json\"\n",
    "with open(output_filename, \"w\") as json_file:\n",
    "    json.dump(final_predictions, json_file, indent=4)\n",
    "\n",
    "print(f\"Final predictions saved to {output_filename}\")"
   ]
  },
  {
   "cell_type": "code",
   "execution_count": 21,
   "id": "b6ee3449-8525-4b56-b805-6be3e9b935e9",
   "metadata": {},
   "outputs": [],
   "source": [
    "#model.save_pretrained('berturk-instagram-classifier')\n",
    "#tokenizer.save_pretrained('berturk-instagram-classifier')"
   ]
  }
 ],
 "metadata": {
  "kernelspec": {
   "display_name": "Python 3 (ipykernel)",
   "language": "python",
   "name": "python3"
  },
  "language_info": {
   "codemirror_mode": {
    "name": "ipython",
    "version": 3
   },
   "file_extension": ".py",
   "mimetype": "text/x-python",
   "name": "python",
   "nbconvert_exporter": "python",
   "pygments_lexer": "ipython3",
   "version": "3.10.6"
  }
 },
 "nbformat": 4,
 "nbformat_minor": 5
}
